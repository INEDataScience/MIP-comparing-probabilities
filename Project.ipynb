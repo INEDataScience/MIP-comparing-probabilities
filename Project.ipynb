{
 "cells": [
  {
   "cell_type": "markdown",
   "metadata": {},
   "source": [
    "![ine-divider](https://user-images.githubusercontent.com/7065401/92672068-398e8080-f2ee-11ea-82d6-ad53f7feb5c0.png)\n",
    "<hr>\n",
    "\n",
    "# Intro to probability\n",
    "\n",
    "## Comparing Theoretical and Empirical Probabilities\n",
    "\n",
    "You are already know how probability works for rolling a `dice`. So, imagine that we will play a **role-playing game**. \n",
    "\n",
    "This game is played in the following ways:\n",
    "\n",
    "    a) The \"enemy\" may roll 1, 2, or 3 dice and sum the total values for each roll.\n",
    "\n",
    "    b) The \"attack\" may roll 1, 2 or 3 dice and sum the total values for each roll.\n",
    "\n",
    "    c) The total rolled attack dice is compared to the total rolled enemy dice, and\n",
    "\n",
    "       1. the attacker loses if the attack dice <= enemy dice,\n",
    "       2. the enemy loses if the attack dice > enemy dice.\n",
    "\n",
    "Standard dice have six faces numbered from 1 through 6. The probability of throwing a specific number is 1/6. If we call any specific number N,\n",
    "then the probability of throwing \"N or less\" with a single dice is the sum of the probabilities for each value from 1 to N.  \n",
    "\n",
    "![orange-divider](https://user-images.githubusercontent.com/7065401/92672455-187a5f80-f2ef-11ea-890c-40be9474f7b7.png)"
   ]
  },
  {
   "cell_type": "markdown",
   "metadata": {},
   "source": [
    "**A)** Implement a **dice()** function that can be used as dice throw and the function will return a random value between 1 to 6. "
   ]
  },
  {
   "cell_type": "code",
   "execution_count": 1,
   "metadata": {},
   "outputs": [],
   "source": [
    "import random\n",
    "import pandas as pd"
   ]
  },
  {
   "cell_type": "code",
   "execution_count": 2,
   "metadata": {},
   "outputs": [],
   "source": [
    "def dice():\n",
    "    return random.randint(1,6)"
   ]
  },
  {
   "cell_type": "markdown",
   "metadata": {},
   "source": [
    "---\n",
    "**B)** Now, define a function to `attack` the enemy which depends on the dice number."
   ]
  },
  {
   "cell_type": "code",
   "execution_count": 3,
   "metadata": {},
   "outputs": [],
   "source": [
    "def attack(number_of_dice):\n",
    "    if number_of_dice < 1 or number_of_dice > 3:\n",
    "        raise ValueError(\"Number of dice must be 1, 2, or 3\")\n",
    "    \n",
    "    total = sum(dice() for _ in range(number_of_dice))  # Roll dice and sum results\n",
    "    return total"
   ]
  },
  {
   "cell_type": "markdown",
   "metadata": {},
   "source": [
    "It's time to begin the **battle**!\n",
    "\n",
    "We will call `enemy_armour` the number which represents the power of the armour of your enemy and `number_of_dice` to the sum of dice when you attack."
   ]
  },
  {
   "cell_type": "markdown",
   "metadata": {},
   "source": [
    "---\n",
    "**C)** Define a `battle` function which returns a true value if you win the battle (the sum of the dice > enemy armour), and false otherwise."
   ]
  },
  {
   "cell_type": "code",
   "execution_count": 4,
   "metadata": {},
   "outputs": [],
   "source": [
    "def battle(number_of_dice, enemy_armour):\n",
    "    attack_total = attack(number_of_dice)  # Calculate the total of the attack dice roll\n",
    "    return attack_total > enemy_armour  # Return True if attack_total > enemy_armour, otherwise False"
   ]
  },
  {
   "cell_type": "markdown",
   "metadata": {},
   "source": [
    "---\n",
    "**D)** Suppose the enemy has an armour with a power of 8 and you will attack with 2 dice. Who wins the battle?"
   ]
  },
  {
   "cell_type": "code",
   "execution_count": 5,
   "metadata": {},
   "outputs": [],
   "source": [
    "def battle_1():\n",
    "    return battle(2, 8)"
   ]
  },
  {
   "cell_type": "markdown",
   "metadata": {},
   "source": [
    "---\n",
    "**E)** If the enemy has an armour of 12 and you attack with 3 dice. Who wins the battle?"
   ]
  },
  {
   "cell_type": "code",
   "execution_count": 6,
   "metadata": {},
   "outputs": [],
   "source": [
    "def battle_2():\n",
    "    return battle(3, 12)"
   ]
  },
  {
   "cell_type": "markdown",
   "metadata": {},
   "source": [
    "---\n",
    "**F)** Let's calculate the **empirical probability** to win battle 1 and battle 2. "
   ]
  },
  {
   "cell_type": "code",
   "execution_count": 29,
   "metadata": {},
   "outputs": [],
   "source": [
    "def empiric_prob(experiment, n=10000):\n",
    "    count = 0\n",
    "    for _ in range(n):\n",
    "        if experiment():\n",
    "            count += 1\n",
    "    return count / n\n",
    "\n",
    "    # return sum([experiment() for _ in range(n)]) / n"
   ]
  },
  {
   "cell_type": "code",
   "execution_count": 27,
   "metadata": {},
   "outputs": [
    {
     "data": {
      "text/plain": [
       "0.2823"
      ]
     },
     "execution_count": 27,
     "metadata": {},
     "output_type": "execute_result"
    }
   ],
   "source": [
    "empiric_prob(battle_1)"
   ]
  },
  {
   "cell_type": "code",
   "execution_count": 28,
   "metadata": {},
   "outputs": [
    {
     "data": {
      "text/plain": [
       "0.2596"
      ]
     },
     "execution_count": 28,
     "metadata": {},
     "output_type": "execute_result"
    }
   ],
   "source": [
    "empiric_prob(battle_2)"
   ]
  },
  {
   "cell_type": "markdown",
   "metadata": {},
   "source": [
    "---\n",
    "**G)** Calculate the **theoretical probability** and compare with the **empirical one**:"
   ]
  },
  {
   "cell_type": "markdown",
   "metadata": {},
   "source": [
    "Here's an example of what first battle looks like. Remember that to win that battle we sum of the two dice should be higher than 8.\n",
    "\n",
    "So, to win that battle we need that the sum of the two dice should be higher than 8. "
   ]
  },
  {
   "cell_type": "code",
   "execution_count": 30,
   "metadata": {},
   "outputs": [
    {
     "name": "stdout",
     "output_type": "stream",
     "text": [
      "10 36\n"
     ]
    }
   ],
   "source": [
    "amount = 0\n",
    "count=0\n",
    "for x in range(1,7,1):\n",
    "    for y in range(1,7,1):\n",
    "        if x+y>8:\n",
    "            amount=amount+1\n",
    "        count=count+1\n",
    "        \n",
    "print(amount,count)        "
   ]
  },
  {
   "cell_type": "code",
   "execution_count": 31,
   "metadata": {},
   "outputs": [
    {
     "data": {
      "text/plain": [
       "0.002"
      ]
     },
     "execution_count": 31,
     "metadata": {},
     "output_type": "execute_result"
    }
   ],
   "source": [
    "round(abs(empiric_prob(battle_1)-amount/count),4)"
   ]
  },
  {
   "cell_type": "markdown",
   "metadata": {},
   "source": [
    "---\n",
    "**H)** The result is close to the \"empiric_prob(battle_1)\", but it could be better. What would you do to improve the empirical probability? "
   ]
  },
  {
   "cell_type": "code",
   "execution_count": 32,
   "metadata": {},
   "outputs": [
    {
     "data": {
      "text/plain": [
       "0.27907"
      ]
     },
     "execution_count": 32,
     "metadata": {},
     "output_type": "execute_result"
    }
   ],
   "source": [
    "emp_prob = empiric_prob(battle_1, n=100000)\n",
    "emp_prob"
   ]
  },
  {
   "cell_type": "code",
   "execution_count": 33,
   "metadata": {},
   "outputs": [
    {
     "data": {
      "text/plain": [
       "0.0013"
      ]
     },
     "execution_count": 33,
     "metadata": {},
     "output_type": "execute_result"
    }
   ],
   "source": [
    "round(abs(emp_prob- amount/count),4)"
   ]
  },
  {
   "cell_type": "markdown",
   "metadata": {},
   "source": [
    "---\n",
    "**I)** Include in a dataframe the differences between the **empirical and theoretical probability** for different n values:"
   ]
  },
  {
   "cell_type": "code",
   "execution_count": 34,
   "metadata": {},
   "outputs": [
    {
     "data": {
      "text/html": [
       "<div>\n",
       "<style scoped>\n",
       "    .dataframe tbody tr th:only-of-type {\n",
       "        vertical-align: middle;\n",
       "    }\n",
       "\n",
       "    .dataframe tbody tr th {\n",
       "        vertical-align: top;\n",
       "    }\n",
       "\n",
       "    .dataframe thead th {\n",
       "        text-align: right;\n",
       "    }\n",
       "</style>\n",
       "<table border=\"1\" class=\"dataframe\">\n",
       "  <thead>\n",
       "    <tr style=\"text-align: right;\">\n",
       "      <th></th>\n",
       "      <th>Times</th>\n",
       "      <th>Empirical Probability</th>\n",
       "      <th>Difference</th>\n",
       "    </tr>\n",
       "  </thead>\n",
       "  <tbody>\n",
       "    <tr>\n",
       "      <th>0</th>\n",
       "      <td>10000</td>\n",
       "      <td>0.277400</td>\n",
       "      <td>0.000378</td>\n",
       "    </tr>\n",
       "    <tr>\n",
       "      <th>1</th>\n",
       "      <td>100000</td>\n",
       "      <td>0.274780</td>\n",
       "      <td>0.002998</td>\n",
       "    </tr>\n",
       "    <tr>\n",
       "      <th>2</th>\n",
       "      <td>1000000</td>\n",
       "      <td>0.277945</td>\n",
       "      <td>0.000167</td>\n",
       "    </tr>\n",
       "    <tr>\n",
       "      <th>3</th>\n",
       "      <td>10000000</td>\n",
       "      <td>0.277615</td>\n",
       "      <td>0.000163</td>\n",
       "    </tr>\n",
       "  </tbody>\n",
       "</table>\n",
       "</div>"
      ],
      "text/plain": [
       "      Times  Empirical Probability  Difference\n",
       "0     10000               0.277400    0.000378\n",
       "1    100000               0.274780    0.002998\n",
       "2   1000000               0.277945    0.000167\n",
       "3  10000000               0.277615    0.000163"
      ]
     },
     "execution_count": 34,
     "metadata": {},
     "output_type": "execute_result"
    }
   ],
   "source": [
    "times = [10000, 100000, 1000000, 10000000]\n",
    "experiments = []\n",
    "\n",
    "for t in times:\n",
    "    experiments.append(empiric_prob(battle_1,t))\n",
    "dif = []    \n",
    "for i in range(len(times)): \n",
    "    dif.append(abs(experiments[i]-5/18))   \n",
    "data = {'Times':['10000', '100000', '1000000', '10000000'], 'Empirical Probability': experiments,\n",
    "        'Difference': dif}\n",
    "df = pd.DataFrame(data)\n",
    "df    "
   ]
  },
  {
   "cell_type": "markdown",
   "metadata": {},
   "source": [
    "**J)** Let's calculate the **theoretical probability** for the second battle and make a comparison with the **empirical** one."
   ]
  },
  {
   "cell_type": "code",
   "execution_count": 35,
   "metadata": {},
   "outputs": [
    {
     "data": {
      "text/html": [
       "<div>\n",
       "<style scoped>\n",
       "    .dataframe tbody tr th:only-of-type {\n",
       "        vertical-align: middle;\n",
       "    }\n",
       "\n",
       "    .dataframe tbody tr th {\n",
       "        vertical-align: top;\n",
       "    }\n",
       "\n",
       "    .dataframe thead th {\n",
       "        text-align: right;\n",
       "    }\n",
       "</style>\n",
       "<table border=\"1\" class=\"dataframe\">\n",
       "  <thead>\n",
       "    <tr style=\"text-align: right;\">\n",
       "      <th></th>\n",
       "      <th>Times</th>\n",
       "      <th>Empirical Probability</th>\n",
       "      <th>Difference</th>\n",
       "    </tr>\n",
       "  </thead>\n",
       "  <tbody>\n",
       "    <tr>\n",
       "      <th>0</th>\n",
       "      <td>10000</td>\n",
       "      <td>0.257400</td>\n",
       "      <td>0.001859</td>\n",
       "    </tr>\n",
       "    <tr>\n",
       "      <th>1</th>\n",
       "      <td>100000</td>\n",
       "      <td>0.258960</td>\n",
       "      <td>0.000299</td>\n",
       "    </tr>\n",
       "    <tr>\n",
       "      <th>2</th>\n",
       "      <td>1000000</td>\n",
       "      <td>0.259546</td>\n",
       "      <td>0.000287</td>\n",
       "    </tr>\n",
       "    <tr>\n",
       "      <th>3</th>\n",
       "      <td>10000000</td>\n",
       "      <td>0.259387</td>\n",
       "      <td>0.000127</td>\n",
       "    </tr>\n",
       "  </tbody>\n",
       "</table>\n",
       "</div>"
      ],
      "text/plain": [
       "      Times  Empirical Probability  Difference\n",
       "0     10000               0.257400    0.001859\n",
       "1    100000               0.258960    0.000299\n",
       "2   1000000               0.259546    0.000287\n",
       "3  10000000               0.259387    0.000127"
      ]
     },
     "execution_count": 35,
     "metadata": {},
     "output_type": "execute_result"
    }
   ],
   "source": [
    "amount = 0\n",
    "for x in range(1,7,1):\n",
    "    for y in range(1,7,1):\n",
    "        for z in range(1,7,1):\n",
    "            if x+y+z>12:\n",
    "                amount=amount+1\n",
    "times = [10000, 100000, 1000000, 10000000]\n",
    "experiments = []\n",
    "for t in times:\n",
    "    experiments.append(empiric_prob(battle_2,t))\n",
    "dif = []    \n",
    "for i in range(len(times)): \n",
    "    dif.append(abs(experiments[i]-amount/6**3))   \n",
    "data = {'Times':['10000', '100000', '1000000', '10000000'], 'Empirical Probability': experiments,\n",
    "        'Difference': dif}\n",
    "df = pd.DataFrame(data)\n",
    "df"
   ]
  },
  {
   "cell_type": "markdown",
   "metadata": {},
   "source": [
    "![orange-divider](https://user-images.githubusercontent.com/7065401/92672455-187a5f80-f2ef-11ea-890c-40be9474f7b7.png)"
   ]
  }
 ],
 "metadata": {
  "kernelspec": {
   "display_name": "base",
   "language": "python",
   "name": "python3"
  },
  "language_info": {
   "codemirror_mode": {
    "name": "ipython",
    "version": 3
   },
   "file_extension": ".py",
   "mimetype": "text/x-python",
   "name": "python",
   "nbconvert_exporter": "python",
   "pygments_lexer": "ipython3",
   "version": "3.11.5"
  }
 },
 "nbformat": 4,
 "nbformat_minor": 4
}
